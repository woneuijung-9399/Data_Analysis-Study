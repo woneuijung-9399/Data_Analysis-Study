{
  "nbformat": 4,
  "nbformat_minor": 0,
  "metadata": {
    "colab": {
      "provenance": []
    },
    "kernelspec": {
      "name": "python3",
      "display_name": "Python 3"
    },
    "language_info": {
      "name": "python"
    }
  },
  "cells": [
    {
      "cell_type": "code",
      "execution_count": null,
      "metadata": {
        "id": "RlHhTOlThght"
      },
      "outputs": [],
      "source": [
        "# 단계 1: 폰트 설치\n",
        "import matplotlib.pyplot as plt\n",
        "import matplotlib.font_manager as fm\n",
        "\n",
        "!apt-get -qq -y install fonts-nanum > /dev/null\n",
        "fontpath = '/usr/share/fonts/truetype/nanum/NanumBarunGothic.ttf'\n",
        "font = fm.FontProperties(fname=fontpath, size=9)\n",
        "fm._rebuild()"
      ]
    },
    {
      "cell_type": "code",
      "source": [
        "# 단계 2: 런타임 재시작\n",
        "import os\n",
        "os.kill(os.getpid(), 9)"
      ],
      "metadata": {
        "id": "VhPUieDxhttG"
      },
      "execution_count": null,
      "outputs": []
    },
    {
      "cell_type": "code",
      "source": [
        "# 단계 3: 한글 폰트 설정\n",
        "import matplotlib.pyplot as plt\n",
        "import matplotlib as mpl\n",
        "import matplotlib.font_manager as fm\n",
        "\n",
        "# 마이너스 표시 문제\n",
        "mpl.rcParams['axes.unicode_minus'] = False\n",
        "\t\n",
        "# 한글 폰트 설정\n",
        "path = '/usr/share/fonts/truetype/nanum/NanumGothicBold.ttf'\n",
        "font_name = fm.FontProperties(fname=path, size=18).get_name()\n",
        "plt.rc('font', family=font_name)\n",
        "fm._rebuild()"
      ],
      "metadata": {
        "id": "FIs9p_81hwvz"
      },
      "execution_count": null,
      "outputs": []
    },
    {
      "cell_type": "code",
      "source": [
        "#파일 오픈\n"
      ],
      "metadata": {
        "id": "AN3Pf3I-h1w4"
      },
      "execution_count": null,
      "outputs": []
    },
    {
      "cell_type": "code",
      "source": [
        "#헤더 출력, 헤더 길이 확인\n"
      ],
      "metadata": {
        "colab": {
          "base_uri": "https://localhost:8080/"
        },
        "id": "uwrI0vP3iXeI",
        "outputId": "7a12682b-c967-4f03-9df3-aaaef30357e3"
      },
      "execution_count": null,
      "outputs": [
        {
          "output_type": "stream",
          "name": "stdout",
          "text": [
            "['행정구역', '2022년08월_계_총인구수', '2022년08월_계_0세', '2022년08월_계_1세', '2022년08월_계_2세', '2022년08월_계_3세', '2022년08월_계_4세', '2022년08월_계_5세', '2022년08월_계_6세', '2022년08월_계_7세', '2022년08월_계_8세', '2022년08월_계_9세', '2022년08월_계_10세', '2022년08월_계_11세', '2022년08월_계_12세', '2022년08월_계_13세', '2022년08월_계_14세', '2022년08월_계_15세', '2022년08월_계_16세', '2022년08월_계_17세', '2022년08월_계_18세', '2022년08월_계_19세', '2022년08월_계_20세', '2022년08월_계_21세', '2022년08월_계_22세', '2022년08월_계_23세', '2022년08월_계_24세', '2022년08월_계_25세', '2022년08월_계_26세', '2022년08월_계_27세', '2022년08월_계_28세', '2022년08월_계_29세', '2022년08월_계_30세', '2022년08월_계_31세', '2022년08월_계_32세', '2022년08월_계_33세', '2022년08월_계_34세', '2022년08월_계_35세', '2022년08월_계_36세', '2022년08월_계_37세', '2022년08월_계_38세', '2022년08월_계_39세', '2022년08월_계_40세', '2022년08월_계_41세', '2022년08월_계_42세', '2022년08월_계_43세', '2022년08월_계_44세', '2022년08월_계_45세', '2022년08월_계_46세', '2022년08월_계_47세', '2022년08월_계_48세', '2022년08월_계_49세', '2022년08월_계_50세', '2022년08월_계_51세', '2022년08월_계_52세', '2022년08월_계_53세', '2022년08월_계_54세', '2022년08월_계_55세', '2022년08월_계_56세', '2022년08월_계_57세', '2022년08월_계_58세', '2022년08월_계_59세', '2022년08월_계_60세', '2022년08월_계_61세', '2022년08월_계_62세', '2022년08월_계_63세', '2022년08월_계_64세', '2022년08월_계_65세', '2022년08월_계_66세', '2022년08월_계_67세', '2022년08월_계_68세', '2022년08월_계_69세', '2022년08월_계_70세', '2022년08월_계_71세', '2022년08월_계_72세', '2022년08월_계_73세', '2022년08월_계_74세', '2022년08월_계_75세', '2022년08월_계_76세', '2022년08월_계_77세', '2022년08월_계_78세', '2022년08월_계_79세', '2022년08월_계_80세', '2022년08월_계_81세', '2022년08월_계_82세', '2022년08월_계_83세', '2022년08월_계_84세', '2022년08월_계_85세', '2022년08월_계_86세', '2022년08월_계_87세', '2022년08월_계_88세', '2022년08월_계_89세', '2022년08월_계_90세', '2022년08월_계_91세', '2022년08월_계_92세', '2022년08월_계_93세', '2022년08월_계_94세', '2022년08월_계_95세', '2022년08월_계_96세', '2022년08월_계_97세', '2022년08월_계_98세', '2022년08월_계_99세', '2022년08월_계_100세 이상', '2022년08월_남_총인구수', '2022년08월_남_0세', '2022년08월_남_1세', '2022년08월_남_2세', '2022년08월_남_3세', '2022년08월_남_4세', '2022년08월_남_5세', '2022년08월_남_6세', '2022년08월_남_7세', '2022년08월_남_8세', '2022년08월_남_9세', '2022년08월_남_10세', '2022년08월_남_11세', '2022년08월_남_12세', '2022년08월_남_13세', '2022년08월_남_14세', '2022년08월_남_15세', '2022년08월_남_16세', '2022년08월_남_17세', '2022년08월_남_18세', '2022년08월_남_19세', '2022년08월_남_20세', '2022년08월_남_21세', '2022년08월_남_22세', '2022년08월_남_23세', '2022년08월_남_24세', '2022년08월_남_25세', '2022년08월_남_26세', '2022년08월_남_27세', '2022년08월_남_28세', '2022년08월_남_29세', '2022년08월_남_30세', '2022년08월_남_31세', '2022년08월_남_32세', '2022년08월_남_33세', '2022년08월_남_34세', '2022년08월_남_35세', '2022년08월_남_36세', '2022년08월_남_37세', '2022년08월_남_38세', '2022년08월_남_39세', '2022년08월_남_40세', '2022년08월_남_41세', '2022년08월_남_42세', '2022년08월_남_43세', '2022년08월_남_44세', '2022년08월_남_45세', '2022년08월_남_46세', '2022년08월_남_47세', '2022년08월_남_48세', '2022년08월_남_49세', '2022년08월_남_50세', '2022년08월_남_51세', '2022년08월_남_52세', '2022년08월_남_53세', '2022년08월_남_54세', '2022년08월_남_55세', '2022년08월_남_56세', '2022년08월_남_57세', '2022년08월_남_58세', '2022년08월_남_59세', '2022년08월_남_60세', '2022년08월_남_61세', '2022년08월_남_62세', '2022년08월_남_63세', '2022년08월_남_64세', '2022년08월_남_65세', '2022년08월_남_66세', '2022년08월_남_67세', '2022년08월_남_68세', '2022년08월_남_69세', '2022년08월_남_70세', '2022년08월_남_71세', '2022년08월_남_72세', '2022년08월_남_73세', '2022년08월_남_74세', '2022년08월_남_75세', '2022년08월_남_76세', '2022년08월_남_77세', '2022년08월_남_78세', '2022년08월_남_79세', '2022년08월_남_80세', '2022년08월_남_81세', '2022년08월_남_82세', '2022년08월_남_83세', '2022년08월_남_84세', '2022년08월_남_85세', '2022년08월_남_86세', '2022년08월_남_87세', '2022년08월_남_88세', '2022년08월_남_89세', '2022년08월_남_90세', '2022년08월_남_91세', '2022년08월_남_92세', '2022년08월_남_93세', '2022년08월_남_94세', '2022년08월_남_95세', '2022년08월_남_96세', '2022년08월_남_97세', '2022년08월_남_98세', '2022년08월_남_99세', '2022년08월_남_100세 이상', '2022년08월_여_총인구수', '2022년08월_여_0세', '2022년08월_여_1세', '2022년08월_여_2세', '2022년08월_여_3세', '2022년08월_여_4세', '2022년08월_여_5세', '2022년08월_여_6세', '2022년08월_여_7세', '2022년08월_여_8세', '2022년08월_여_9세', '2022년08월_여_10세', '2022년08월_여_11세', '2022년08월_여_12세', '2022년08월_여_13세', '2022년08월_여_14세', '2022년08월_여_15세', '2022년08월_여_16세', '2022년08월_여_17세', '2022년08월_여_18세', '2022년08월_여_19세', '2022년08월_여_20세', '2022년08월_여_21세', '2022년08월_여_22세', '2022년08월_여_23세', '2022년08월_여_24세', '2022년08월_여_25세', '2022년08월_여_26세', '2022년08월_여_27세', '2022년08월_여_28세', '2022년08월_여_29세', '2022년08월_여_30세', '2022년08월_여_31세', '2022년08월_여_32세', '2022년08월_여_33세', '2022년08월_여_34세', '2022년08월_여_35세', '2022년08월_여_36세', '2022년08월_여_37세', '2022년08월_여_38세', '2022년08월_여_39세', '2022년08월_여_40세', '2022년08월_여_41세', '2022년08월_여_42세', '2022년08월_여_43세', '2022년08월_여_44세', '2022년08월_여_45세', '2022년08월_여_46세', '2022년08월_여_47세', '2022년08월_여_48세', '2022년08월_여_49세', '2022년08월_여_50세', '2022년08월_여_51세', '2022년08월_여_52세', '2022년08월_여_53세', '2022년08월_여_54세', '2022년08월_여_55세', '2022년08월_여_56세', '2022년08월_여_57세', '2022년08월_여_58세', '2022년08월_여_59세', '2022년08월_여_60세', '2022년08월_여_61세', '2022년08월_여_62세', '2022년08월_여_63세', '2022년08월_여_64세', '2022년08월_여_65세', '2022년08월_여_66세', '2022년08월_여_67세', '2022년08월_여_68세', '2022년08월_여_69세', '2022년08월_여_70세', '2022년08월_여_71세', '2022년08월_여_72세', '2022년08월_여_73세', '2022년08월_여_74세', '2022년08월_여_75세', '2022년08월_여_76세', '2022년08월_여_77세', '2022년08월_여_78세', '2022년08월_여_79세', '2022년08월_여_80세', '2022년08월_여_81세', '2022년08월_여_82세', '2022년08월_여_83세', '2022년08월_여_84세', '2022년08월_여_85세', '2022년08월_여_86세', '2022년08월_여_87세', '2022년08월_여_88세', '2022년08월_여_89세', '2022년08월_여_90세', '2022년08월_여_91세', '2022년08월_여_92세', '2022년08월_여_93세', '2022년08월_여_94세', '2022년08월_여_95세', '2022년08월_여_96세', '2022년08월_여_97세', '2022년08월_여_98세', '2022년08월_여_99세', '2022년08월_여_100세 이상']\n",
            "307\n"
          ]
        }
      ]
    },
    {
      "cell_type": "markdown",
      "source": [
        "### << 헤더를 이용한 데이터 속성 분석 >>"
      ],
      "metadata": {
        "id": "8mqhfZEhj8Vx"
      }
    },
    {
      "cell_type": "code",
      "source": [
        "#0~100세 총 인구수는 몇번부터 몇번 인덱스에 있을까?\n",
        "\n",
        "#0~100세 남자 총 인구수는 몇번부터 몇번 인덱스에 있을까?\n",
        "\n",
        "#0~100세 여자 총 인구수는 몇번부터 몇번 인덱스에 있을까?\n"
      ],
      "metadata": {
        "colab": {
          "base_uri": "https://localhost:8080/"
        },
        "id": "kqAvL5kvilkh",
        "outputId": "9b79494b-109a-40cb-f779-68cc069fbf88"
      },
      "execution_count": null,
      "outputs": [
        {
          "output_type": "stream",
          "name": "stdout",
          "text": [
            "2022년08월_계_0세 2022년08월_계_100세 이상\n",
            "2022년08월_남_0세 2022년08월_남_100세 이상\n",
            "2022년08월_여_0세 2022년08월_여_100세 이상\n"
          ]
        }
      ]
    },
    {
      "cell_type": "code",
      "source": [
        "#서울특별시의 연령별 총인구 \n"
      ],
      "metadata": {
        "colab": {
          "base_uri": "https://localhost:8080/"
        },
        "id": "aWFsZpjCjA4O",
        "outputId": "a3823e6a-aa32-45fa-8186-187a14da190c"
      },
      "execution_count": null,
      "outputs": [
        {
          "output_type": "stream",
          "name": "stdout",
          "text": [
            "['40,931', '44,731', '45,511', '49,245', '52,278', '57,054', '64,993', '67,389', '66,458', '69,728', '73,178', '74,211', '70,537', '70,854', '77,007', '76,198', '71,798', '72,776', '81,292', '84,479', '92,605', '109,564', '122,792', '128,581', '140,859', '151,748', '160,960', '163,689', '168,698', '171,640', '169,823', '155,282', '148,124', '142,339', '134,772', '132,666', '132,963', '131,530', '136,684', '145,139', '153,385', '154,158', '153,713', '142,498', '133,753', '136,239', '134,513', '143,303', '155,439', '158,351', '161,030', '169,789', '159,870', '162,879', '151,879', '141,272', '138,092', '141,719', '132,797', '146,195', '136,622', '157,609', '153,686', '140,019', '132,035', '130,199', '120,257', '125,862', '102,156', '95,014', '96,639', '72,168', '81,170', '79,765', '78,781', '77,931', '55,964', '58,999', '55,081', '57,654', '58,697', '46,452', '40,065', '37,030', '31,920', '27,601', '23,645', '20,122', '15,883', '12,847', '10,513', '7,820', '6,636', '5,631', '4,113', '2,990', '1,896', '1,333', '1,013', '950', '1,706']\n",
            "101\n"
          ]
        }
      ]
    },
    {
      "cell_type": "code",
      "source": [
        "#서울특별시의 연령별 남성인구 \n"
      ],
      "metadata": {
        "colab": {
          "base_uri": "https://localhost:8080/"
        },
        "id": "hOlpdGc1k4JN",
        "outputId": "abd3d4d1-742b-406e-cef9-c3f863a20b57"
      },
      "execution_count": null,
      "outputs": [
        {
          "output_type": "stream",
          "name": "stdout",
          "text": [
            "['21,115', '23,013', '23,458', '25,684', '26,926', '29,115', '33,125', '34,405', '34,172', '35,784', '37,526', '38,155', '36,187', '36,346', '39,714', '39,133', '36,951', '37,434', '41,351', '41,960', '44,702', '52,235', '58,066', '60,160', '65,275', '70,459', '76,652', '79,900', '83,359', '85,408', '84,233', '77,554', '74,448', '71,598', '67,149', '66,039', '66,334', '65,641', '68,565', '72,411', '76,366', '77,515', '75,788', '70,255', '65,891', '67,067', '66,636', '70,769', '76,959', '77,814', '80,135', '84,265', '79,074', '80,112', '74,196', '69,027', '68,882', '69,159', '64,909', '72,003', '66,886', '74,936', '72,363', '66,680', '62,926', '61,067', '56,352', '58,313', '47,491', '44,195', '45,083', '33,318', '37,358', '36,292', '35,845', '35,025', '24,977', '26,545', '24,217', '25,689', '25,859', '20,153', '16,759', '15,117', '12,678', '10,397', '8,569', '6,954', '5,131', '3,951', '3,145', '2,102', '1,649', '1,474', '978', '664', '392', '301', '240', '246', '414']\n",
            "101\n"
          ]
        }
      ]
    },
    {
      "cell_type": "code",
      "source": [
        "#서울특별시의 연령별 여성인구 \n"
      ],
      "metadata": {
        "colab": {
          "base_uri": "https://localhost:8080/"
        },
        "id": "G_QqWyTal3mT",
        "outputId": "6ee56cb2-82fb-4855-e9ae-a2fab528aa46"
      },
      "execution_count": null,
      "outputs": [
        {
          "output_type": "stream",
          "name": "stdout",
          "text": [
            "['19,816', '21,718', '22,053', '23,561', '25,352', '27,939', '31,868', '32,984', '32,286', '33,944', '35,652', '36,056', '34,350', '34,508', '37,293', '37,065', '34,847', '35,342', '39,941', '42,519', '47,903', '57,329', '64,726', '68,421', '75,584', '81,289', '84,308', '83,789', '85,339', '86,232', '85,590', '77,728', '73,676', '70,741', '67,623', '66,627', '66,629', '65,889', '68,119', '72,728', '77,019', '76,643', '77,925', '72,243', '67,862', '69,172', '67,877', '72,534', '78,480', '80,537', '80,895', '85,524', '80,796', '82,767', '77,683', '72,245', '69,210', '72,560', '67,888', '74,192', '69,736', '82,673', '81,323', '73,339', '69,109', '69,132', '63,905', '67,549', '54,665', '50,819', '51,556', '38,850', '43,812', '43,473', '42,936', '42,906', '30,987', '32,454', '30,864', '31,965', '32,838', '26,299', '23,306', '21,913', '19,242', '17,204', '15,076', '13,168', '10,752', '8,896', '7,368', '5,718', '4,987', '4,157', '3,135', '2,326', '1,504', '1,032', '773', '704', '1,292']\n",
            "101\n"
          ]
        }
      ]
    },
    {
      "cell_type": "markdown",
      "source": [
        "### << 우리 동네 인구 구조 시각화하기 -선그래프 (가로: 나이, 세로: 인구수) >>"
      ],
      "metadata": {
        "id": "KTwV2jO5mK5E"
      }
    },
    {
      "cell_type": "code",
      "source": [
        "#강남구 연령별 총인구(in 연산자 이용하기)\n"
      ],
      "metadata": {
        "colab": {
          "base_uri": "https://localhost:8080/"
        },
        "id": "i16yG4FEmDiz",
        "outputId": "3d791a1b-3aca-4f6a-b20f-118bde044549"
      },
      "execution_count": null,
      "outputs": [
        {
          "output_type": "stream",
          "name": "stdout",
          "text": [
            "['1,926', '2,202', '2,262', '2,531', '2,843', '3,268', '3,860', '4,356', '4,725', '5,199', '5,578', '5,964', '5,887', '6,028', '6,617', '6,342', '5,785', '5,735', '6,162', '5,786', '5,539', '6,101', '6,376', '6,122', '6,808', '6,939', '7,463', '7,633', '8,076', '8,474', '8,304', '7,964', '7,647', '7,542', '7,051', '7,140', '7,145', '7,278', '7,794', '8,352', '9,097', '9,635', '9,880', '9,708', '9,317', '9,560', '9,519', '9,884', '10,239', '10,221', '10,401', '10,539', '9,896', '9,154', '8,169', '7,345', '7,018', '7,039', '6,698', '6,955', '6,166', '6,818', '6,813', '6,297', '6,349', '6,387', '5,925', '6,283', '5,236', '5,065', '5,018', '3,599', '4,168', '4,181', '4,118', '4,043', '3,041', '2,925', '2,660', '2,560', '2,475', '2,041', '1,692', '1,515', '1,419', '1,141', '993', '880', '687', '565', '528', '389', '349', '284', '222', '175', '121', '86', '54', '50', '104']\n",
            "['1,926', '2,202', '2,262', '2,531', '2,843', '3,268', '3,860', '4,356', '4,725', '5,199', '5,578', '5,964', '5,887', '6,028', '6,617', '6,342', '5,785', '5,735', '6,162', '5,786', '5,539', '6,101', '6,376', '6,122', '6,808', '6,939', '7,463', '7,633', '8,076', '8,474', '8,304', '7,964', '7,647', '7,542', '7,051', '7,140', '7,145', '7,278', '7,794', '8,352', '9,097', '9,635', '9,880', '9,708', '9,317', '9,560', '9,519', '9,884', '10,239', '10,221', '10,401', '10,539', '9,896', '9,154', '8,169', '7,345', '7,018', '7,039', '6,698', '6,955', '6,166', '6,818', '6,813', '6,297', '6,349', '6,387', '5,925', '6,283', '5,236', '5,065', '5,018', '3,599', '4,168', '4,181', '4,118', '4,043', '3,041', '2,925', '2,660', '2,560', '2,475', '2,041', '1,692', '1,515', '1,419', '1,141', '993', '880', '687', '565', '528', '389', '349', '284', '222', '175', '121', '86', '54', '50', '104']\n"
          ]
        }
      ]
    },
    {
      "cell_type": "code",
      "source": [
        "#강남구의 연령별 총인구 리스트 만들기\n"
      ],
      "metadata": {
        "colab": {
          "base_uri": "https://localhost:8080/"
        },
        "id": "VR0b-8MToJ5Y",
        "outputId": "8a8aeedf-9b0b-405d-9fd2-b1fbfbb1479f"
      },
      "execution_count": null,
      "outputs": [
        {
          "output_type": "stream",
          "name": "stdout",
          "text": [
            "['1,926', '2,202', '2,262', '2,531', '2,843', '3,268', '3,860', '4,356', '4,725', '5,199', '5,578', '5,964', '5,887', '6,028', '6,617', '6,342', '5,785', '5,735', '6,162', '5,786', '5,539', '6,101', '6,376', '6,122', '6,808', '6,939', '7,463', '7,633', '8,076', '8,474', '8,304', '7,964', '7,647', '7,542', '7,051', '7,140', '7,145', '7,278', '7,794', '8,352', '9,097', '9,635', '9,880', '9,708', '9,317', '9,560', '9,519', '9,884', '10,239', '10,221', '10,401', '10,539', '9,896', '9,154', '8,169', '7,345', '7,018', '7,039', '6,698', '6,955', '6,166', '6,818', '6,813', '6,297', '6,349', '6,387', '5,925', '6,283', '5,236', '5,065', '5,018', '3,599', '4,168', '4,181', '4,118', '4,043', '3,041', '2,925', '2,660', '2,560', '2,475', '2,041', '1,692', '1,515', '1,419', '1,141', '993', '880', '687', '565', '528', '389', '349', '284', '222', '175', '121', '86', '54', '50', '104']\n"
          ]
        }
      ]
    },
    {
      "cell_type": "code",
      "source": [
        "# result의 값들을 정수형으로 형변환하기\n"
      ],
      "metadata": {
        "colab": {
          "base_uri": "https://localhost:8080/",
          "height": 228
        },
        "id": "efNqUxNdo2sX",
        "outputId": "e651628d-40e5-4991-8ac9-430d8688baaa"
      },
      "execution_count": null,
      "outputs": [
        {
          "output_type": "error",
          "ename": "ValueError",
          "evalue": "ignored",
          "traceback": [
            "\u001b[0;31m---------------------------------------------------------------------------\u001b[0m",
            "\u001b[0;31mValueError\u001b[0m                                Traceback (most recent call last)",
            "\u001b[0;32m<ipython-input-24-d182c3eb96b4>\u001b[0m in \u001b[0;36m<module>\u001b[0;34m\u001b[0m\n\u001b[1;32m      4\u001b[0m     \u001b[0;32mif\u001b[0m \u001b[0;34m'강남구'\u001b[0m \u001b[0;32min\u001b[0m \u001b[0mrow\u001b[0m\u001b[0;34m[\u001b[0m\u001b[0;36m0\u001b[0m\u001b[0;34m]\u001b[0m\u001b[0;34m:\u001b[0m\u001b[0;34m\u001b[0m\u001b[0;34m\u001b[0m\u001b[0m\n\u001b[1;32m      5\u001b[0m         \u001b[0;32mfor\u001b[0m \u001b[0mi\u001b[0m \u001b[0;32min\u001b[0m \u001b[0mrow\u001b[0m\u001b[0;34m[\u001b[0m\u001b[0;36m2\u001b[0m\u001b[0;34m:\u001b[0m\u001b[0;36m103\u001b[0m\u001b[0;34m]\u001b[0m\u001b[0;34m:\u001b[0m\u001b[0;34m\u001b[0m\u001b[0;34m\u001b[0m\u001b[0m\n\u001b[0;32m----> 6\u001b[0;31m             \u001b[0mresult\u001b[0m\u001b[0;34m.\u001b[0m\u001b[0mappend\u001b[0m\u001b[0;34m(\u001b[0m\u001b[0mint\u001b[0m\u001b[0;34m(\u001b[0m\u001b[0mi\u001b[0m\u001b[0;34m)\u001b[0m\u001b[0;34m)\u001b[0m\u001b[0;34m\u001b[0m\u001b[0;34m\u001b[0m\u001b[0m\n\u001b[0m\u001b[1;32m      7\u001b[0m \u001b[0;31m# 쉼표 기호 때문에 에러가 난다.\u001b[0m\u001b[0;34m\u001b[0m\u001b[0;34m\u001b[0m\u001b[0;34m\u001b[0m\u001b[0m\n",
            "\u001b[0;31mValueError\u001b[0m: invalid literal for int() with base 10: '1,926'"
          ]
        }
      ]
    },
    {
      "cell_type": "markdown",
      "source": [
        "###<< 예외처리 try except >>\n",
        "try의 코드를 처리 후 에러가 난다면 except의 코드를 실행한다."
      ],
      "metadata": {
        "id": "gSutg4VQqZvb"
      }
    },
    {
      "cell_type": "code",
      "source": [
        "#쉼표를 기준으로 스플릿하여 쉼표 앞에 숫자와 쉼표 뒷 숫자를 연결함\n",
        "\n",
        "                \n",
        "print(result)"
      ],
      "metadata": {
        "colab": {
          "base_uri": "https://localhost:8080/"
        },
        "id": "U7oA5jarpZmP",
        "outputId": "d5eb4263-98fb-4560-c729-530ada49b295"
      },
      "execution_count": null,
      "outputs": [
        {
          "output_type": "stream",
          "name": "stdout",
          "text": [
            "[1926, 2202, 2262, 2531, 2843, 3268, 3860, 4356, 4725, 5199, 5578, 5964, 5887, 6028, 6617, 6342, 5785, 5735, 6162, 5786, 5539, 6101, 6376, 6122, 6808, 6939, 7463, 7633, 8076, 8474, 8304, 7964, 7647, 7542, 7051, 7140, 7145, 7278, 7794, 8352, 9097, 9635, 9880, 9708, 9317, 9560, 9519, 9884, 10239, 10221, 10401, 10539, 9896, 9154, 8169, 7345, 7018, 7039, 6698, 6955, 6166, 6818, 6813, 6297, 6349, 6387, 5925, 6283, 5236, 5065, 5018, 3599, 4168, 4181, 4118, 4043, 3041, 2925, 2660, 2560, 2475, 2041, 1692, 1515, 1419, 1141, 993, 880, 687, 565, 528, 389, 349, 284, 222, 175, 121, 86, 54, 50, 104]\n"
          ]
        }
      ]
    },
    {
      "cell_type": "markdown",
      "source": [
        "### 그래프로 시각화하기"
      ],
      "metadata": {
        "id": "EoPts9JKrfrf"
      }
    },
    {
      "cell_type": "code",
      "source": [],
      "metadata": {
        "colab": {
          "base_uri": "https://localhost:8080/",
          "height": 265
        },
        "id": "g6S5vFPPrbVE",
        "outputId": "b3c3d467-b835-4083-defe-7b4e5121a938"
      },
      "execution_count": null,
      "outputs": [
        {
          "output_type": "display_data",
          "data": {
            "text/plain": [
              "<Figure size 432x288 with 1 Axes>"
            ],
            "image/png": "[encoded data removed]"
          },
          "metadata": {
            "needs_background": "light"
          }
        }
      ]
    },
    {
      "cell_type": "code",
      "source": [
        "#x축, y축 라벨 추가하기\n"
      ],
      "metadata": {
        "colab": {
          "base_uri": "https://localhost:8080/",
          "height": 279
        },
        "id": "eb5xPRX1rnq8",
        "outputId": "7ce0fc13-0448-4d3c-91ed-55d5201c6485"
      },
      "execution_count": null,
      "outputs": [
        {
          "output_type": "display_data",
          "data": {
            "text/plain": [
              "<Figure size 432x288 with 1 Axes>"
            ],
            "image/png": "[encoded data removed]"
          },
          "metadata": {
            "needs_background": "light"
          }
        }
      ]
    },
    {
      "cell_type": "markdown",
      "source": [
        "###<< 강남구의 인구구조 출력하는 함수 만들기.(함수이름: population) >>"
      ],
      "metadata": {
        "id": "D-KoNMZ0r7q9"
      }
    },
    {
      "cell_type": "code",
      "source": [
        "def population():\n"
      ],
      "metadata": {
        "id": "hLF5z3Zjrz6t"
      },
      "execution_count": null,
      "outputs": []
    },
    {
      "cell_type": "code",
      "source": [
        "population()"
      ],
      "metadata": {
        "colab": {
          "base_uri": "https://localhost:8080/",
          "height": 279
        },
        "id": "98SaytV5tfMs",
        "outputId": "bdb9f2f6-c536-44f2-f4c5-89e9545bd3fc"
      },
      "execution_count": null,
      "outputs": [
        {
          "output_type": "display_data",
          "data": {
            "text/plain": [
              "<Figure size 432x288 with 1 Axes>"
            ],
            "image/png": "[encoded data removed]"
          },
          "metadata": {
            "needs_background": "light"
          }
        }
      ]
    },
    {
      "cell_type": "markdown",
      "source": [
        "###<< 인구 구조를 알고 싶은 시군구의 인구구조를 시각화하는 함수 만들기 >>"
      ],
      "metadata": {
        "id": "dNhQRpdyt_-5"
      }
    },
    {
      "cell_type": "code",
      "source": [
        "#인구 구조가 알고싶은 지역의 이름을 입력 받아서 처리함\n",
        "\n",
        "def inpopulation():\n",
        "\n",
        "   \n"
      ],
      "metadata": {
        "id": "rPzA3Jxttj3y"
      },
      "execution_count": null,
      "outputs": []
    },
    {
      "cell_type": "code",
      "source": [
        "inpopulation()"
      ],
      "metadata": {
        "colab": {
          "base_uri": "https://localhost:8080/",
          "height": 295
        },
        "id": "Z3JjxrNFvm5o",
        "outputId": "6b9a3dd6-addf-476a-f2c6-eb325eac86de"
      },
      "execution_count": null,
      "outputs": [
        {
          "name": "stdout",
          "output_type": "stream",
          "text": [
            "인구 구조가 알고싶은 지역의 이름(시군구 단위)를 입력하세요.: 인천\n"
          ]
        },
        {
          "output_type": "display_data",
          "data": {
            "text/plain": [
              "<Figure size 432x288 with 1 Axes>"
            ],
            "image/png": "[encoded data removed]"
          },
          "metadata": {
            "needs_background": "light"
          }
        }
      ]
    },
    {
      "cell_type": "code",
      "source": [
        "inpopulation()"
      ],
      "metadata": {
        "colab": {
          "base_uri": "https://localhost:8080/",
          "height": 295
        },
        "id": "TA3ejdh9v2zA",
        "outputId": "67f04d32-37fc-421c-a54c-6b0d92bbbb53"
      },
      "execution_count": null,
      "outputs": [
        {
          "name": "stdout",
          "output_type": "stream",
          "text": [
            "인구 구조가 알고싶은 지역의 이름(시군구 단위)를 입력하세요.: 수원\n"
          ]
        },
        {
          "output_type": "display_data",
          "data": {
            "text/plain": [
              "<Figure size 432x288 with 1 Axes>"
            ],
            "image/png": "[encoded data removed]"
          },
          "metadata": {
            "needs_background": "light"
          }
        }
      ]
    },
    {
      "cell_type": "markdown",
      "source": [
        "###<< 특정 지역의 남성, 여성 연령별 비교그래프 그리기 - 가로막대그래프 >>"
      ],
      "metadata": {
        "id": "dkKxt1nxxak_"
      }
    },
    {
      "cell_type": "markdown",
      "source": [
        "###### 특정 지역 남성의 연령별 막대그래프 그리기"
      ],
      "metadata": {
        "id": "aDZgR_W5xiSa"
      }
    },
    {
      "cell_type": "code",
      "source": [
        "#0~100세 연령별 남자 인구수 데이터 인덱스 확인하기\n"
      ],
      "metadata": {
        "colab": {
          "base_uri": "https://localhost:8080/"
        },
        "id": "_BfLTSR1xQtQ",
        "outputId": "4cea887e-7f73-4ad5-b48d-9bdf27c9d832"
      },
      "execution_count": null,
      "outputs": [
        {
          "output_type": "stream",
          "name": "stdout",
          "text": [
            "2022년08월_남_0세 2022년08월_남_100세 이상\n"
          ]
        }
      ]
    },
    {
      "cell_type": "code",
      "source": [
        "#0~100세 강남구 연령별 남자 인구수 확인하기\n"
      ],
      "metadata": {
        "colab": {
          "base_uri": "https://localhost:8080/"
        },
        "id": "Qy4yAufZyCTE",
        "outputId": "15fcea90-f2d3-4bdf-932d-c8b195aa1b0a"
      },
      "execution_count": null,
      "outputs": [
        {
          "output_type": "stream",
          "name": "stdout",
          "text": [
            "['992', '1,096', '1,172', '1,336', '1,511', '1,615', '1,928', '2,237', '2,499', '2,704', '2,903', '3,147', '3,039', '3,147', '3,441', '3,314', '3,016', '3,017', '3,234', '2,947', '2,764', '3,002', '3,141', '2,882', '3,163', '3,069', '3,403', '3,548', '3,920', '4,132', '3,882', '3,867', '3,635', '3,610', '3,227', '3,307', '3,226', '3,277', '3,526', '3,716', '3,998', '4,378', '4,425', '4,285', '4,264', '4,371', '4,395', '4,589', '4,994', '4,865', '5,189', '5,290', '5,060', '4,655', '4,151', '3,619', '3,582', '3,487', '3,295', '3,450', '3,080', '3,215', '3,154', '2,942', '2,915', '2,939', '2,659', '2,782', '2,379', '2,241', '2,287', '1,663', '1,831', '1,935', '1,934', '1,874', '1,449', '1,438', '1,277', '1,273', '1,224', '957', '797', '743', '620', '477', '414', '306', '229', '178', '165', '106', '83', '66', '39', '45', '23', '17', '12', '10', '18']\n"
          ]
        }
      ]
    },
    {
      "cell_type": "code",
      "source": [
        "#0~100세 강남구 연령별 남자 인구수 확인하기\n"
      ],
      "metadata": {
        "colab": {
          "base_uri": "https://localhost:8080/"
        },
        "id": "hM6tzoQ2ywqF",
        "outputId": "217964eb-e8d7-4a95-b98c-fb731581fa36"
      },
      "execution_count": null,
      "outputs": [
        {
          "output_type": "stream",
          "name": "stdout",
          "text": [
            "992  1,096  1,172  1,336  1,511  1,615  1,928  2,237  2,499  2,704  2,903  3,147  3,039  3,147  3,441  3,314  3,016  3,017  3,234  2,947  2,764  3,002  3,141  2,882  3,163  3,069  3,403  3,548  3,920  4,132  3,882  3,867  3,635  3,610  3,227  3,307  3,226  3,277  3,526  3,716  3,998  4,378  4,425  4,285  4,264  4,371  4,395  4,589  4,994  4,865  5,189  5,290  5,060  4,655  4,151  3,619  3,582  3,487  3,295  3,450  3,080  3,215  3,154  2,942  2,915  2,939  2,659  2,782  2,379  2,241  2,287  1,663  1,831  1,935  1,934  1,874  1,449  1,438  1,277  1,273  1,224  957  797  743  620  477  414  306  229  178  165  106  83  66  39  45  23  17  12  10  18  "
          ]
        }
      ]
    },
    {
      "cell_type": "code",
      "source": [
        "#0~100세 강남구 연령별 남자 인구 리스트 만들기(리스트이름:male)\n",
        "male = []\n",
        "\n",
        "        \n",
        "print(male)"
      ],
      "metadata": {
        "colab": {
          "base_uri": "https://localhost:8080/"
        },
        "id": "poMv4N7CzWHj",
        "outputId": "124041b2-7a1e-493d-f305-3f57387d5d32"
      },
      "execution_count": null,
      "outputs": [
        {
          "output_type": "stream",
          "name": "stdout",
          "text": [
            "['992', '1,096', '1,172', '1,336', '1,511', '1,615', '1,928', '2,237', '2,499', '2,704', '2,903', '3,147', '3,039', '3,147', '3,441', '3,314', '3,016', '3,017', '3,234', '2,947', '2,764', '3,002', '3,141', '2,882', '3,163', '3,069', '3,403', '3,548', '3,920', '4,132', '3,882', '3,867', '3,635', '3,610', '3,227', '3,307', '3,226', '3,277', '3,526', '3,716', '3,998', '4,378', '4,425', '4,285', '4,264', '4,371', '4,395', '4,589', '4,994', '4,865', '5,189', '5,290', '5,060', '4,655', '4,151', '3,619', '3,582', '3,487', '3,295', '3,450', '3,080', '3,215', '3,154', '2,942', '2,915', '2,939', '2,659', '2,782', '2,379', '2,241', '2,287', '1,663', '1,831', '1,935', '1,934', '1,874', '1,449', '1,438', '1,277', '1,273', '1,224', '957', '797', '743', '620', '477', '414', '306', '229', '178', '165', '106', '83', '66', '39', '45', '23', '17', '12', '10', '18']\n"
          ]
        }
      ]
    },
    {
      "cell_type": "code",
      "source": [
        "#형변환해서 리스트 만들기\n",
        "male= []\n",
        "\n",
        "print(male)"
      ],
      "metadata": {
        "colab": {
          "base_uri": "https://localhost:8080/"
        },
        "id": "vqRnSVXLz35G",
        "outputId": "eab15409-16ac-4fa7-8d9c-387fcfc06508"
      },
      "execution_count": null,
      "outputs": [
        {
          "output_type": "stream",
          "name": "stdout",
          "text": [
            "[992, 1096, 1172, 1336, 1511, 1615, 1928, 2237, 2499, 2704, 2903, 3147, 3039, 3147, 3441, 3314, 3016, 3017, 3234, 2947, 2764, 3002, 3141, 2882, 3163, 3069, 3403, 3548, 3920, 4132, 3882, 3867, 3635, 3610, 3227, 3307, 3226, 3277, 3526, 3716, 3998, 4378, 4425, 4285, 4264, 4371, 4395, 4589, 4994, 4865, 5189, 5290, 5060, 4655, 4151, 3619, 3582, 3487, 3295, 3450, 3080, 3215, 3154, 2942, 2915, 2939, 2659, 2782, 2379, 2241, 2287, 1663, 1831, 1935, 1934, 1874, 1449, 1438, 1277, 1273, 1224, 957, 797, 743, 620, 477, 414, 306, 229, 178, 165, 106, 83, 66, 39, 45, 23, 17, 12, 10, 18]\n"
          ]
        }
      ]
    },
    {
      "cell_type": "code",
      "source": [
        "#세로막대그래프로 시각화하기\n"
      ],
      "metadata": {
        "colab": {
          "base_uri": "https://localhost:8080/",
          "height": 264
        },
        "id": "oE2SV-3H0orK",
        "outputId": "fe9602dd-89ec-4fb4-849a-c52fdb750287"
      },
      "execution_count": null,
      "outputs": [
        {
          "output_type": "display_data",
          "data": {
            "text/plain": [
              "<Figure size 432x288 with 1 Axes>"
            ],
            "image/png": "[encoded data removed]"
          },
          "metadata": {
            "needs_background": "light"
          }
        }
      ]
    },
    {
      "cell_type": "code",
      "source": [
        "#가로막대그래프로 시각화하기\n"
      ],
      "metadata": {
        "colab": {
          "base_uri": "https://localhost:8080/",
          "height": 264
        },
        "id": "yWghVb8U00cR",
        "outputId": "cfd05590-b90a-4178-82f1-fb92edc90303"
      },
      "execution_count": null,
      "outputs": [
        {
          "output_type": "display_data",
          "data": {
            "text/plain": [
              "<Figure size 432x288 with 1 Axes>"
            ],
            "image/png": "[encoded data removed]"
          },
          "metadata": {
            "needs_background": "light"
          }
        }
      ]
    },
    {
      "cell_type": "markdown",
      "source": [
        "###### 특정 지역 여성의 연령별 막대그래프 그리기"
      ],
      "metadata": {
        "id": "OB1YcCDB1Dz0"
      }
    },
    {
      "cell_type": "code",
      "source": [
        "#0~100세 연령별 여자 인구수 데이터 인덱스 확인하기\n"
      ],
      "metadata": {
        "colab": {
          "base_uri": "https://localhost:8080/"
        },
        "id": "B9EZ0tzt08rp",
        "outputId": "f78142e8-f956-4af6-b529-6bc31bf31f6f"
      },
      "execution_count": null,
      "outputs": [
        {
          "output_type": "stream",
          "name": "stdout",
          "text": [
            "2022년08월_여_0세 2022년08월_여_100세 이상\n"
          ]
        }
      ]
    },
    {
      "cell_type": "code",
      "source": [
        "#형변환해서 리스트 만들기\n",
        "female= []\n",
        "\n",
        "print(female)"
      ],
      "metadata": {
        "colab": {
          "base_uri": "https://localhost:8080/"
        },
        "id": "p3hO9lTG1bei",
        "outputId": "4eb86e42-0eba-45dd-927b-2bca8650d3ce"
      },
      "execution_count": null,
      "outputs": [
        {
          "output_type": "stream",
          "name": "stdout",
          "text": [
            "[934, 1106, 1090, 1195, 1332, 1653, 1932, 2119, 2226, 2495, 2675, 2817, 2848, 2881, 3176, 3028, 2769, 2718, 2928, 2839, 2775, 3099, 3235, 3240, 3645, 3870, 4060, 4085, 4156, 4342, 4422, 4097, 4012, 3932, 3824, 3833, 3919, 4001, 4268, 4636, 5099, 5257, 5455, 5423, 5053, 5189, 5124, 5295, 5245, 5356, 5212, 5249, 4836, 4499, 4018, 3726, 3436, 3552, 3403, 3505, 3086, 3603, 3659, 3355, 3434, 3448, 3266, 3501, 2857, 2824, 2731, 1936, 2337, 2246, 2184, 2169, 1592, 1487, 1383, 1287, 1251, 1084, 895, 772, 799, 664, 579, 574, 458, 387, 363, 283, 266, 218, 183, 130, 98, 69, 42, 40, 86]\n"
          ]
        }
      ]
    },
    {
      "cell_type": "code",
      "source": [
        "#세로막대그래프로 시각화하기\n"
      ],
      "metadata": {
        "colab": {
          "base_uri": "https://localhost:8080/",
          "height": 264
        },
        "id": "SL8jbsLU1kZg",
        "outputId": "bb1e2554-3f02-4f83-bd27-57161150bf62"
      },
      "execution_count": null,
      "outputs": [
        {
          "output_type": "display_data",
          "data": {
            "text/plain": [
              "<Figure size 432x288 with 1 Axes>"
            ],
            "image/png": "[encoded data removed]"
          },
          "metadata": {
            "needs_background": "light"
          }
        }
      ]
    },
    {
      "cell_type": "code",
      "source": [
        "#가로막대그래프로 시각화하기\n"
      ],
      "metadata": {
        "colab": {
          "base_uri": "https://localhost:8080/",
          "height": 264
        },
        "id": "uH2Mv50L1sbY",
        "outputId": "26fb8b77-3f64-402c-afc1-8a925b2b40bc"
      },
      "execution_count": null,
      "outputs": [
        {
          "output_type": "display_data",
          "data": {
            "text/plain": [
              "<Figure size 432x288 with 1 Axes>"
            ],
            "image/png": "[encoded data removed]"
          },
          "metadata": {
            "needs_background": "light"
          }
        }
      ]
    },
    {
      "cell_type": "code",
      "source": [
        "#강남구 남 녀 연령별 인구수 가로막대그래프로 비교해보기\n"
      ],
      "metadata": {
        "colab": {
          "base_uri": "https://localhost:8080/",
          "height": 264
        },
        "id": "yPYMzpCT2U8Y",
        "outputId": "7b3fb5fe-f99f-472c-db9f-3c1d3e3ac299"
      },
      "execution_count": null,
      "outputs": [
        {
          "output_type": "display_data",
          "data": {
            "text/plain": [
              "<Figure size 432x288 with 1 Axes>"
            ],
            "image/png": "[encoded data removed]"
          },
          "metadata": {
            "needs_background": "light"
          }
        }
      ]
    },
    {
      "cell_type": "markdown",
      "source": [
        "###<< 항아리 모양으로 강남구 남 녀 연령별 인구수 가로막대그래프로 비교해보기>>"
      ],
      "metadata": {
        "id": "wjGN0KaD3K_p"
      }
    },
    {
      "cell_type": "code",
      "source": [
        "#여성 데이터를 음수로 처리하기\n",
        "female = []\n",
        "\n",
        "\n",
        "            \n",
        "print(female)\n",
        "\n"
      ],
      "metadata": {
        "colab": {
          "base_uri": "https://localhost:8080/",
          "height": 302
        },
        "id": "e9a0FmOP2uTR",
        "outputId": "1ef2bc80-a1de-4438-9a77-3f7c22546f89"
      },
      "execution_count": null,
      "outputs": [
        {
          "output_type": "stream",
          "name": "stdout",
          "text": [
            "[-934, -1106, -1090, -1195, -1332, -1653, -1932, -2119, -2226, -2495, -2675, -2817, -2848, -2881, -3176, -3028, -2769, -2718, -2928, -2839, -2775, -3099, -3235, -3240, -3645, -3870, -4060, -4085, -4156, -4342, -4422, -4097, -4012, -3932, -3824, -3833, -3919, -4001, -4268, -4636, -5099, -5257, -5455, -5423, -5053, -5189, -5124, -5295, -5245, -5356, -5212, -5249, -4836, -4499, -4018, -3726, -3436, -3552, -3403, -3505, -3086, -3603, -3659, -3355, -3434, -3448, -3266, -3501, -2857, -2824, -2731, -1936, -2337, -2246, -2184, -2169, -1592, -1487, -1383, -1287, -1251, -1084, -895, -772, -799, -664, -579, -574, -458, -387, -363, -283, -266, -218, -183, -130, -98, -69, -42, -40, -86]\n"
          ]
        },
        {
          "output_type": "display_data",
          "data": {
            "text/plain": [
              "<Figure size 432x288 with 1 Axes>"
            ],
            "image/png": "[encoded data removed]"
          },
          "metadata": {
            "needs_background": "light"
          }
        }
      ]
    },
    {
      "cell_type": "code",
      "source": [
        "#여성, 남성 그래프 합치기.\n"
      ],
      "metadata": {
        "colab": {
          "base_uri": "https://localhost:8080/",
          "height": 279
        },
        "id": "lpXgd9F93ikG",
        "outputId": "69e32bb1-47d5-4145-ed39-832bfad24d10"
      },
      "execution_count": null,
      "outputs": [
        {
          "output_type": "display_data",
          "data": {
            "text/plain": [
              "<Figure size 432x288 with 1 Axes>"
            ],
            "image/png": "[encoded data removed]"
          },
          "metadata": {
            "needs_background": "light"
          }
        }
      ]
    },
    {
      "cell_type": "code",
      "source": [
        "#남녀 성별 인구 분포 그래프 그리기\n",
        "def inpopulation2():\n",
        "    "
      ],
      "metadata": {
        "id": "U7llpMDf3qPu"
      },
      "execution_count": null,
      "outputs": []
    },
    {
      "cell_type": "code",
      "source": [
        "inpopulation2()"
      ],
      "metadata": {
        "colab": {
          "base_uri": "https://localhost:8080/",
          "height": 297
        },
        "id": "2HE5DSsVGPc8",
        "outputId": "7a9075e4-ceb8-45cf-9eaf-6bf0e8c78357"
      },
      "execution_count": null,
      "outputs": [
        {
          "name": "stdout",
          "output_type": "stream",
          "text": [
            "궁금한 지역은?: 종로구\n"
          ]
        },
        {
          "output_type": "display_data",
          "data": {
            "text/plain": [
              "<Figure size 432x288 with 1 Axes>"
            ],
            "image/png": "[encoded data removed]"
          },
          "metadata": {
            "needs_background": "light"
          }
        }
      ]
    },
    {
      "cell_type": "markdown",
      "source": [
        "### << 시도별 18세 인구 수 비교하기 - 막대그래프 >>"
      ],
      "metadata": {
        "id": "vpJ4uktBGlZt"
      }
    },
    {
      "cell_type": "code",
      "source": [
        "#계_18세 데이터 인덱스 확인하기\n"
      ],
      "metadata": {
        "colab": {
          "base_uri": "https://localhost:8080/"
        },
        "id": "fAH7LkMnGUgM",
        "outputId": "4f9a787a-f50e-44e7-dcc6-71634d470a19"
      },
      "execution_count": null,
      "outputs": [
        {
          "output_type": "stream",
          "name": "stdout",
          "text": [
            "2022년08월_계_18세\n"
          ]
        }
      ]
    },
    {
      "cell_type": "code",
      "source": [
        "#지역별 18세 인구 딕셔너리 만들기\n"
      ],
      "metadata": {
        "colab": {
          "base_uri": "https://localhost:8080/"
        },
        "id": "77zZP8jSHD7G",
        "outputId": "47ee94ce-2353-48b7-adec-5549129fe738"
      },
      "execution_count": null,
      "outputs": [
        {
          "output_type": "stream",
          "name": "stdout",
          "text": [
            "{'서울특별시  (1100000000)': 81292, '서울특별시 종로구 (1111000000)': 1126, '서울특별시 중구 (1114000000)': 760, '서울특별시 용산구 (1117000000)': 1596, '서울특별시 성동구 (1120000000)': 2134, '서울특별시 광진구 (1121500000)': 2685, '서울특별시 동대문구 (1123000000)': 2529, '서울특별시 중랑구 (1126000000)': 2777, '서울특별시 성북구 (1129000000)': 4072, '서울특별시 강북구 (1130500000)': 2281, '서울특별시 도봉구 (1132000000)': 2735, '서울특별시 노원구 (1135000000)': 5745, '서울특별시 은평구 (1138000000)': 4139, '서울특별시 서대문구 (1141000000)': 2521, '서울특별시 마포구 (1144000000)': 2932, '서울특별시 양천구 (1147000000)': 5056, '서울특별시 강서구 (1150000000)': 4637, '서울특별시 구로구 (1153000000)': 2980, '서울특별시 금천구 (1154500000)': 1527, '서울특별시 영등포구 (1156000000)': 2539, '서울특별시 동작구 (1159000000)': 3050, '서울특별시 관악구 (1162000000)': 3157, '서울특별시 서초구 (1165000000)': 4375, '서울특별시 강남구 (1168000000)': 6162, '서울특별시 송파구 (1171000000)': 5858, '서울특별시 강동구 (1174000000)': 3919, '부산광역시  (2600000000)': 27421, '부산광역시 중구 (2611000000)': 210, '부산광역시 서구 (2614000000)': 806, '부산광역시 동구 (2617000000)': 538, '부산광역시 영도구 (2620000000)': 799, '부산광역시 부산진구 (2623000000)': 2594, '부산광역시 동래구 (2626000000)': 2542, '부산광역시 남구 (2629000000)': 2341, '부산광역시 북구 (2632000000)': 2317, '부산광역시 해운대구 (2635000000)': 3764, '부산광역시 사하구 (2638000000)': 2586, '부산광역시 금정구 (2641000000)': 1792, '부산광역시 강서구 (2644000000)': 961, '부산광역시 연제구 (2647000000)': 1692, '부산광역시 수영구 (2650000000)': 1239, '부산광역시 사상구 (2653000000)': 1605, '부산광역시 기장군 (2671000000)': 1635, '대구광역시  (2700000000)': 23234, '대구광역시 중구 (2711000000)': 592, '대구광역시 동구 (2714000000)': 2709, '대구광역시 서구 (2717000000)': 1136, '대구광역시 남구 (2720000000)': 1091, '대구광역시 북구 (2723000000)': 4700, '대구광역시 수성구 (2726000000)': 5165, '대구광역시 달서구 (2729000000)': 5652, '대구광역시 달성군 (2771000000)': 2189, '인천광역시  (2800000000)': 27503, '인천광역시 중구 (2811000000)': 1265, '인천광역시 중구영종출장소 (2811400000)': 0, '인천광역시 중구용유출장소 (2811800000)': 0, '인천광역시 동구 (2814000000)': 498, '인천광역시 미추홀구 (2817700000)': 3305, '인천광역시 연수구 (2818500000)': 4195, '인천광역시 남동구 (2820000000)': 4730, '인천광역시 부평구 (2823700000)': 4366, '인천광역시 계양구 (2824500000)': 2797, '인천광역시 서구 (2826000000)': 5767, '인천광역시 서구검단출장소 (2826500000)': 0, '인천광역시 강화군 (2871000000)': 451, '인천광역시 옹진군 (2872000000)': 129, '광주광역시  (2900000000)': 15787, '광주광역시 동구 (2911000000)': 796, '광주광역시 서구 (2914000000)': 3171, '광주광역시 남구 (2915500000)': 2242, '광주광역시 북구 (2917000000)': 4425, '광주광역시 광산구 (2920000000)': 5153, '대전광역시  (3000000000)': 15020, '대전광역시 동구 (3011000000)': 2054, '대전광역시 중구 (3014000000)': 2214, '대전광역시 서구 (3017000000)': 5108, '대전광역시 유성구 (3020000000)': 3853, '대전광역시 대덕구 (3023000000)': 1791, '울산광역시  (3100000000)': 10803, '울산광역시 중구 (3111000000)': 1913, '울산광역시 남구 (3114000000)': 3069, '울산광역시 동구 (3117000000)': 1383, '울산광역시 북구 (3120000000)': 2132, '울산광역시 울주군 (3171000000)': 2306, '세종특별자치시  (3600000000)': 3975, '경기도  (4100000000)': 134543, '북부출장소  (4110500000)': 0, '경기도 수원시 (4111000000)': 12005, '경기도 수원시 장안구 (4111100000)': 3001, '경기도 수원시 권선구 (4111300000)': 3349, '경기도 수원시 팔달구 (4111500000)': 1624, '경기도 수원시 영통구 (4111700000)': 4031, '경기도 성남시 (4113000000)': 8985, '경기도 성남시 수정구 (4113100000)': 1868, '경기도 성남시 중원구 (4113300000)': 1645, '경기도 성남시 분당구 (4113500000)': 5472, '경기도 의정부시 (4115000000)': 4410, '경기도 안양시 (4117000000)': 5352, '경기도 안양시 만안구 (4117100000)': 2005, '경기도 안양시 동안구 (4117300000)': 3347, '경기도 부천시 (4119000000)': 7187, '경기도 광명시 (4121000000)': 3147, '경기도 평택시 (4122000000)': 5137, '경기도 송탄출장소 (4122200000)': 0, '경기도 안중출장소 (4122400000)': 0, '경기도 동두천시 (4125000000)': 860, '경기도 안산시 (4127000000)': 6731, '경기도 안산시 상록구 (4127100000)': 3686, '경기도 안산시 단원구 (4127300000)': 3045, '경기도 고양시 (4128000000)': 10933, '경기도 고양시 덕양구 (4128100000)': 4168, '경기도 고양시 일산동구 (4128500000)': 3225, '경기도 고양시 일산서구 (4128700000)': 3540, '경기도 과천시 (4129000000)': 748, '경기도 구리시 (4131000000)': 1808, '경기도 남양주시 (4136000000)': 7819, '경기도 풍양출장소 (4136200000)': 0, '경기도 오산시 (4137000000)': 2333, '경기도 시흥시 (4139000000)': 4936, '경기도 군포시 (4141000000)': 2710, '경기도 의왕시 (4143000000)': 1426, '경기도 하남시 (4145000000)': 2553, '경기도 용인시 (4146000000)': 12490, '경기도 용인시 처인구 (4146100000)': 3143, '경기도 용인시 기흥구 (4146300000)': 4977, '경기도 용인시 수지구 (4146500000)': 4370, '경기도 파주시 (4148000000)': 4845, '경기도 이천시 (4150000000)': 2823, '경기도 안성시 (4155000000)': 1932, '경기도 김포시 (4157000000)': 4257, '경기도 화성시 (4159000000)': 8963, '경기도 화성시동부출장소 (4159200000)': 0, '경기도 화성시동탄출장소 (4159400000)': 0, '경기도 광주시 (4161000000)': 3563, '경기도 양주시 (4163000000)': 2420, '경기도 포천시 (4165000000)': 1218, '경기도 여주시 (4167000000)': 1026, '경기도 연천군 (4180000000)': 304, '경기도 가평군 (4182000000)': 505, '경기도 양평군 (4183000000)': 1117, '강원도  (4200000000)': 14092, '동해출장소  (4210500000)': 0, '강원도 춘천시 (4211000000)': 2671, '강원도 원주시 (4213000000)': 3552, '강원도 강릉시 (4215000000)': 2029, '강원도 동해시 (4217000000)': 893, '강원도 태백시 (4219000000)': 363, '강원도 속초시 (4221000000)': 768, '강원도 삼척시 (4223000000)': 628, '강원도 홍천군 (4272000000)': 486, '강원도 횡성군 (4273000000)': 412, '강원도 영월군 (4275000000)': 346, '강원도 평창군 (4276000000)': 307, '강원도 정선군 (4277000000)': 227, '강원도 철원군 (4278000000)': 361, '강원도 화천군 (4279000000)': 179, '강원도 양구군 (4280000000)': 232, '강원도 인제군 (4281000000)': 235, '강원도 고성군 (4282000000)': 181, '강원도 양양군 (4283000000)': 222, '충청북도  (4300000000)': 14985, '충청북도 청주시 (4311000000)': 8543, '충청북도 청주시 상당구 (4311100000)': 2055, '충청북도 청주시 서원구 (4311200000)': 2036, '충청북도 청주시 흥덕구 (4311300000)': 2682, '충청북도 청주시 청원구 (4311400000)': 1770, '충청북도 충주시 (4313000000)': 1859, '충청북도 제천시 (4315000000)': 1336, '충청북도 보은군 (4372000000)': 220, '충청북도 옥천군 (4373000000)': 401, '충청북도 영동군 (4374000000)': 335, '충청북도 증평군 (4374500000)': 318, '충청북도 진천군 (4375000000)': 828, '충청북도 괴산군 (4376000000)': 193, '충청북도 음성군 (4377000000)': 734, '충청북도 단양군 (4380000000)': 218, '충청남도  (4400000000)': 19924, '충청남도 천안시 (4413000000)': 6765, '충청남도 천안시 동남구 (4413100000)': 2599, '충청남도 천안시 서북구 (4413300000)': 4166, '충청남도 공주시 (4415000000)': 848, '충청남도 보령시 (4418000000)': 835, '충청남도 아산시 (4420000000)': 3366, '충청남도 서산시 (4421000000)': 1659, '충청남도 논산시 (4423000000)': 985, '충청남도 계룡시 (4425000000)': 647, '충청남도 당진시 (4427000000)': 1412, '충청남도 금산군 (4471000000)': 381, '충청남도 부여군 (4476000000)': 488, '충청남도 서천군 (4477000000)': 327, '충청남도 청양군 (4479000000)': 257, '충청남도 홍성군 (4480000000)': 995, '충청남도 예산군 (4481000000)': 522, '충청남도 태안군 (4482500000)': 437, '전라북도  (4500000000)': 17460, '전라북도 전주시 (4511000000)': 7179, '전라북도 전주시 완산구 (4511100000)': 3731, '전라북도 전주시 덕진구 (4511300000)': 3448, '전라북도 전주시효자출장소 (4511800000)': 0, '전라북도 군산시 (4513000000)': 2635, '전라북도 익산시 (4514000000)': 2853, '전라북도 익산시함열출장소 (4514500000)': 0, '전라북도 정읍시 (4518000000)': 986, '전라북도 남원시 (4519000000)': 745, '전라북도 김제시 (4521000000)': 602, '전라북도 완주군 (4571000000)': 769, '전라북도 진안군 (4572000000)': 187, '전라북도 무주군 (4573000000)': 168, '전라북도 장수군 (4574000000)': 157, '전라북도 임실군 (4575000000)': 156, '전라북도 순창군 (4577000000)': 231, '전라북도 고창군 (4579000000)': 421, '전라북도 부안군 (4580000000)': 371, '전라남도  (4600000000)': 16847, '전라남도 목포시 (4611000000)': 2404, '전라남도 여수시 (4613000000)': 2778, '전라남도 순천시 (4615000000)': 3114, '전라남도 나주시 (4617000000)': 883, '전라남도 광양시 (4623000000)': 1542, '전라남도 담양군 (4671000000)': 326, '전라남도 곡성군 (4672000000)': 198, '전라남도 구례군 (4673000000)': 171, '전라남도 고흥군 (4677000000)': 368, '전라남도 보성군 (4678000000)': 246, '전라남도 화순군 (4679000000)': 610, '전라남도 장흥군 (4680000000)': 316, '전라남도 강진군 (4681000000)': 246, '전라남도 해남군 (4682000000)': 518, '전라남도 영암군 (4683000000)': 464, '전라남도 무안군 (4684000000)': 898, '전라남도 함평군 (4686000000)': 219, '전라남도 영광군 (4687000000)': 415, '전라남도 장성군 (4688000000)': 347, '전라남도 완도군 (4689000000)': 377, '전라남도 진도군 (4690000000)': 195, '전라남도 신안군 (4691000000)': 212, '경상북도  (4700000000)': 22474, '경상북도 포항시 (4711000000)': 4528, '경상북도 포항시 남구 (4711100000)': 2057, '경상북도 포항시 북구 (4711300000)': 2471, '경상북도 경주시 (4713000000)': 2070, '경상북도 김천시 (4715000000)': 1348, '경상북도 안동시 (4717000000)': 1435, '경상북도 구미시 (4719000000)': 4284, '경상북도 영주시 (4721000000)': 905, '경상북도 영천시 (4723000000)': 689, '경상북도 상주시 (4725000000)': 728, '경상북도 문경시 (4728000000)': 565, '경상북도 경산시 (4729000000)': 2410, '경상북도 군위군 (4772000000)': 79, '경상북도 의성군 (4773000000)': 245, '경상북도 청송군 (4775000000)': 144, '경상북도 영양군 (4776000000)': 87, '경상북도 영덕군 (4777000000)': 208, '경상북도 청도군 (4782000000)': 231, '경상북도 고령군 (4783000000)': 186, '경상북도 성주군 (4784000000)': 215, '경상북도 칠곡군 (4785000000)': 1103, '경상북도 예천군 (4790000000)': 383, '경상북도 봉화군 (4792000000)': 206, '경상북도 울진군 (4793000000)': 382, '경상북도 울릉군 (4794000000)': 43, '경상남도  (4800000000)': 31579, '경상남도 창원시 (4812000000)': 9836, '경상남도 창원시 의창구 (4812100000)': 1959, '경상남도 창원시 성산구 (4812300000)': 2674, '경상남도 창원시 마산합포구 (4812500000)': 1362, '경상남도 창원시 마산회원구 (4812700000)': 1791, '경상남도 창원시 진해구 (4812900000)': 2050, '경상남도 진주시 (4817000000)': 3526, '경상남도 통영시 (4822000000)': 1132, '경상남도 사천시 (4824000000)': 974, '경상남도 사천남양출장소 (4824500000)': 0, '경상남도 김해시 (4825000000)': 5912, '경상남도 장유출장소 (4825200000)': 0, '경상남도 밀양시 (4827000000)': 767, '경상남도 거제시 (4831000000)': 2523, '경상남도 양산시 (4833000000)': 3392, '경상남도 양산시웅상출장소 (4833200000)': 0, '경상남도 의령군 (4872000000)': 168, '경상남도 함안군 (4873000000)': 540, '경상남도 창녕군 (4874000000)': 408, '경상남도 고성군 (4882000000)': 439, '경상남도 남해군 (4884000000)': 317, '경상남도 하동군 (4885000000)': 268, '경상남도 산청군 (4886000000)': 191, '경상남도 함양군 (4887000000)': 314, '경상남도 거창군 (4888000000)': 648, '경상남도 합천군 (4889000000)': 224, '제주특별자치도  (5000000000)': 6885, '제주특별자치도 제주시 (5011000000)': 5251, '제주특별자치도 서귀포시 (5013000000)': 1634}\n"
          ]
        }
      ]
    },
    {
      "cell_type": "code",
      "source": [
        "print(len(eighteen))"
      ],
      "metadata": {
        "colab": {
          "base_uri": "https://localhost:8080/"
        },
        "id": "kIqXHp-GHbM7",
        "outputId": "4a5e7733-3a45-4ee1-d556-9e09fbc9f0e2"
      },
      "execution_count": null,
      "outputs": [
        {
          "output_type": "stream",
          "name": "stdout",
          "text": [
            "292\n"
          ]
        }
      ]
    },
    {
      "cell_type": "code",
      "source": [
        "#시, 도 만 추출하기 1단계\n"
      ],
      "metadata": {
        "colab": {
          "base_uri": "https://localhost:8080/"
        },
        "id": "HNz-SNACHiuS",
        "outputId": "bbc1d103-c71b-442c-b35e-1976bfc0c42e"
      },
      "execution_count": null,
      "outputs": [
        {
          "output_type": "stream",
          "name": "stdout",
          "text": [
            "서울특별시  (1100000000)\n",
            "부산광역시  (2600000000)\n",
            "대구광역시  (2700000000)\n",
            "인천광역시  (2800000000)\n",
            "광주광역시  (2900000000)\n",
            "대전광역시  (3000000000)\n",
            "울산광역시  (3100000000)\n",
            "세종특별자치시  (3600000000)\n",
            "경기도  (4100000000)\n",
            "북부출장소  (4110500000)\n",
            "강원도  (4200000000)\n",
            "동해출장소  (4210500000)\n",
            "충청북도  (4300000000)\n",
            "충청남도  (4400000000)\n",
            "전라북도  (4500000000)\n",
            "전라남도  (4600000000)\n",
            "경상북도  (4700000000)\n",
            "경상남도  (4800000000)\n",
            "제주특별자치도  (5000000000)\n"
          ]
        }
      ]
    },
    {
      "cell_type": "code",
      "source": [
        "#시, 도 만 추출하기 2단계\n"
      ],
      "metadata": {
        "colab": {
          "base_uri": "https://localhost:8080/"
        },
        "id": "SNNbKXvHH6-C",
        "outputId": "4247d148-4f30-4f2d-8ea5-23830dc2e30e"
      },
      "execution_count": null,
      "outputs": [
        {
          "output_type": "stream",
          "name": "stdout",
          "text": [
            "서울특별시  (1100000000)\n",
            "부산광역시  (2600000000)\n",
            "대구광역시  (2700000000)\n",
            "인천광역시  (2800000000)\n",
            "광주광역시  (2900000000)\n",
            "대전광역시  (3000000000)\n",
            "울산광역시  (3100000000)\n",
            "세종특별자치시  (3600000000)\n",
            "경기도  (4100000000)\n",
            "강원도  (4200000000)\n",
            "충청북도  (4300000000)\n",
            "충청남도  (4400000000)\n",
            "전라북도  (4500000000)\n",
            "전라남도  (4600000000)\n",
            "경상북도  (4700000000)\n",
            "경상남도  (4800000000)\n",
            "제주특별자치도  (5000000000)\n"
          ]
        }
      ]
    },
    {
      "cell_type": "code",
      "source": [
        "#시도별 18세 인구 딕셔너리 만들기\n"
      ],
      "metadata": {
        "id": "p8b2-RY5I6Ow"
      },
      "execution_count": null,
      "outputs": []
    },
    {
      "cell_type": "code",
      "source": [
        "#딕셔너리 확인해보기\n"
      ],
      "metadata": {
        "colab": {
          "base_uri": "https://localhost:8080/"
        },
        "id": "gnZQBtLYJaGo",
        "outputId": "be9504bc-5e92-463c-a391-6a21458e7fff"
      },
      "execution_count": null,
      "outputs": [
        {
          "output_type": "execute_result",
          "data": {
            "text/plain": [
              "{'서울특별시': 81292,\n",
              " '부산광역시': 27421,\n",
              " '대구광역시': 23234,\n",
              " '인천광역시': 27503,\n",
              " '광주광역시': 15787,\n",
              " '대전광역시': 15020,\n",
              " '울산광역시': 10803,\n",
              " '세종특별자치시': 3975,\n",
              " '경기도': 134543,\n",
              " '강원도': 14092,\n",
              " '충청북도': 14985,\n",
              " '충청남도': 19924,\n",
              " '전라북도': 17460,\n",
              " '전라남도': 16847,\n",
              " '경상북도': 22474,\n",
              " '경상남도': 31579,\n",
              " '제주특별자치도': 6885}"
            ]
          },
          "metadata": {},
          "execution_count": 81
        }
      ]
    },
    {
      "cell_type": "code",
      "source": [
        "#세로막대로 시각화하기\n"
      ],
      "metadata": {
        "colab": {
          "base_uri": "https://localhost:8080/",
          "height": 310
        },
        "id": "63ZMatoSJk9I",
        "outputId": "43e0b9d1-cf6c-468e-ce23-05c8600ce01d"
      },
      "execution_count": null,
      "outputs": [
        {
          "output_type": "display_data",
          "data": {
            "text/plain": [
              "<Figure size 432x288 with 1 Axes>"
            ],
            "image/png": "[encoded data removed]"
          },
          "metadata": {
            "needs_background": "light"
          }
        }
      ]
    },
    {
      "cell_type": "code",
      "source": [
        "# 지역별 나이 비교 함수 만들기\n",
        "def population2():\n",
        "    \n",
        " "
      ],
      "metadata": {
        "id": "vH6__va1J063"
      },
      "execution_count": null,
      "outputs": []
    },
    {
      "cell_type": "code",
      "source": [
        "population2()"
      ],
      "metadata": {
        "id": "WxstM4RVnKC4"
      },
      "execution_count": null,
      "outputs": []
    },
    {
      "cell_type": "markdown",
      "source": [
        "### 해당 나이의 인덱스 찾기\n",
        "0세 -> 2\n",
        "\n",
        "1세 -> 3\n",
        "\n",
        "...\n",
        "\n",
        "18세 -> 20\n",
        "\n",
        "\n",
        "n세 -> n+2"
      ],
      "metadata": {
        "id": "xG0OJqNdnNtT"
      }
    },
    {
      "cell_type": "code",
      "source": [
        "### 지역별 나이 비교 함수 만들기\n",
        "def inpopulation3():"
      ],
      "metadata": {
        "id": "Sdv7nP30nQTJ"
      },
      "execution_count": null,
      "outputs": []
    },
    {
      "cell_type": "code",
      "source": [
        "inpopulation3()"
      ],
      "metadata": {
        "id": "NU7bRPTxnUZz"
      },
      "execution_count": null,
      "outputs": []
    }
  ]
}